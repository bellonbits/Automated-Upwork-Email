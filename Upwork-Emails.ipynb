{
 "cells": [
  {
   "cell_type": "code",
   "execution_count": 3,
   "id": "970af9cc",
   "metadata": {},
   "outputs": [
    {
     "name": "stdout",
     "output_type": "stream",
     "text": [
      "Email sent successfully\n"
     ]
    }
   ],
   "source": [
    "import yagmail\n",
    "from selenium import webdriver\n",
    "from selenium.webdriver.common.by import By\n",
    "from selenium.webdriver.chrome.service import Service\n",
    "from selenium.webdriver.chrome.options import Options\n",
    "from webdriver_manager.chrome import ChromeDriverManager\n",
    "import time\n",
    "\n",
    "# Setup WebDriver\n",
    "chrome_options = Options()\n",
    "chrome_options.add_argument(\"--start-maximized\")\n",
    "driver = webdriver.Chrome(service=Service(ChromeDriverManager().install()), options=chrome_options)\n",
    "\n",
    "def scrape_job_details(driver, url):\n",
    "    driver.get(url)\n",
    "    time.sleep(3)  # Wait for the page to load\n",
    "    \n",
    "    job_details = []\n",
    "    \n",
    "    # Find job cards on the first page\n",
    "    job_cards = driver.find_elements(By.CSS_SELECTOR, \".job-tile-header\")\n",
    "    \n",
    "    for card in job_cards:\n",
    "        try:\n",
    "            # Extract the job title and URL\n",
    "            title_element = card.find_element(By.CSS_SELECTOR, \".job-tile-title a\")\n",
    "            job_title = title_element.text\n",
    "            job_url = title_element.get_attribute(\"href\")\n",
    "            \n",
    "            # Extract the published date\n",
    "            published_date_element = card.find_element(By.CSS_SELECTOR, \"[data-test='job-pubilshed-date']\")\n",
    "            published_date = published_date_element.text\n",
    "            \n",
    "            job_details.append(f\"Job Title: {job_title}\\nJob URL: {job_url}\\nPublished Date: {published_date}\\n\" + \"-\" * 40)\n",
    "        except Exception as e:\n",
    "            print(f\"Error extracting job details: {e}\")\n",
    "    \n",
    "    return \"\\n\".join(job_details)\n",
    "\n",
    "def send_email(subject, body, to_email):\n",
    "    try:\n",
    "        # Initialize yagmail SMTP client with your email address and App Password\n",
    "        yag = yagmail.SMTP('economistgatitu@gmail.com', 'hige dbun arqp rapf')\n",
    "        \n",
    "        # Send email\n",
    "        yag.send(\n",
    "            to=to_email,\n",
    "            subject=subject,\n",
    "            contents=body\n",
    "        )\n",
    "        print(\"Email sent successfully\")\n",
    "    except Exception as e:\n",
    "        print(f\"Error sending email: {e}\")\n",
    "\n",
    "# Example usage\n",
    "search_url = \"https://www.upwork.com/nx/search/jobs/?q=data%20analysis&page=1\"\n",
    "job_details = scrape_job_details(driver, search_url)\n",
    "\n",
    "# Email settings\n",
    "subject = \"Upwork Job Listings\"\n",
    "to_email = 'economistgatitu@gmail.com'  # Email address to send to (same as your Gmail address)\n",
    "\n",
    "# Send the email with the job details\n",
    "send_email(subject, job_details, to_email)\n",
    "\n",
    "# Close the browser\n",
    "driver.quit()\n"
   ]
  },
  {
   "cell_type": "code",
   "execution_count": null,
   "id": "bd3748da",
   "metadata": {},
   "outputs": [],
   "source": []
  }
 ],
 "metadata": {
  "kernelspec": {
   "display_name": "Python 3 (ipykernel)",
   "language": "python",
   "name": "python3"
  },
  "language_info": {
   "codemirror_mode": {
    "name": "ipython",
    "version": 3
   },
   "file_extension": ".py",
   "mimetype": "text/x-python",
   "name": "python",
   "nbconvert_exporter": "python",
   "pygments_lexer": "ipython3",
   "version": "3.7.6"
  }
 },
 "nbformat": 4,
 "nbformat_minor": 5
}
